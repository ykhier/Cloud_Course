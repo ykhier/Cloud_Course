{
  "nbformat": 4,
  "nbformat_minor": 0,
  "metadata": {
    "colab": {
      "provenance": [],
      "authorship_tag": "ABX9TyMGcVNxLzeITrHwfYASHORr",
      "include_colab_link": true
    },
    "kernelspec": {
      "name": "python3",
      "display_name": "Python 3"
    },
    "language_info": {
      "name": "python"
    },
    "widgets": {
      "application/vnd.jupyter.widget-state+json": {
        "7c1cec937bd64283b16ef9ad74de0098": {
          "model_module": "@jupyter-widgets/controls",
          "model_name": "VBoxModel",
          "model_module_version": "1.5.0",
          "state": {
            "_dom_classes": [],
            "_model_module": "@jupyter-widgets/controls",
            "_model_module_version": "1.5.0",
            "_model_name": "VBoxModel",
            "_view_count": null,
            "_view_module": "@jupyter-widgets/controls",
            "_view_module_version": "1.5.0",
            "_view_name": "VBoxView",
            "box_style": "",
            "children": [
              "IPY_MODEL_cf5aaff4ca2e4810bfce3f07523c8147",
              "IPY_MODEL_df364f407a5a4f7eb988f4b872408ef6",
              "IPY_MODEL_e338f3863ead4109b934d12ca72a9d14",
              "IPY_MODEL_b74123c764374892ba5e32e3099be168",
              "IPY_MODEL_71058f923a44412bbf675cb6d4e6157a"
            ],
            "layout": "IPY_MODEL_f85c0e18ce2d46ab80122dac5c65c97c"
          }
        },
        "cf5aaff4ca2e4810bfce3f07523c8147": {
          "model_module": "@jupyter-widgets/controls",
          "model_name": "DropdownModel",
          "model_module_version": "1.5.0",
          "state": {
            "_dom_classes": [],
            "_model_module": "@jupyter-widgets/controls",
            "_model_module_version": "1.5.0",
            "_model_name": "DropdownModel",
            "_options_labels": [
              "Yosef Khier",
              "Maya Cohen",
              "Ali Nassar",
              "Yosef Khier",
              "Yosef Khier",
              "Ali Nassar"
            ],
            "_view_count": null,
            "_view_module": "@jupyter-widgets/controls",
            "_view_module_version": "1.5.0",
            "_view_name": "DropdownView",
            "description": "סטודנט:",
            "description_tooltip": null,
            "disabled": false,
            "index": 0,
            "layout": "IPY_MODEL_3d80b21752004a539795d1ddffd44f18",
            "style": "IPY_MODEL_63ff1e32164b46cf869d3ceea2bfa95d"
          }
        },
        "df364f407a5a4f7eb988f4b872408ef6": {
          "model_module": "@jupyter-widgets/controls",
          "model_name": "TextModel",
          "model_module_version": "1.5.0",
          "state": {
            "_dom_classes": [],
            "_model_module": "@jupyter-widgets/controls",
            "_model_module_version": "1.5.0",
            "_model_name": "TextModel",
            "_view_count": null,
            "_view_module": "@jupyter-widgets/controls",
            "_view_module_version": "1.5.0",
            "_view_name": "TextView",
            "continuous_update": true,
            "description": "מייל:",
            "description_tooltip": null,
            "disabled": true,
            "layout": "IPY_MODEL_d4c3cf6c9fa840fb90fa4da8f40435a2",
            "placeholder": "​",
            "style": "IPY_MODEL_073c780d524644598899cb4001878753",
            "value": "yosef.khier@braude.ac.il"
          }
        },
        "e338f3863ead4109b934d12ca72a9d14": {
          "model_module": "@jupyter-widgets/controls",
          "model_name": "TextareaModel",
          "model_module_version": "1.5.0",
          "state": {
            "_dom_classes": [],
            "_model_module": "@jupyter-widgets/controls",
            "_model_module_version": "1.5.0",
            "_model_name": "TextareaModel",
            "_view_count": null,
            "_view_module": "@jupyter-widgets/controls",
            "_view_module_version": "1.5.0",
            "_view_name": "TextareaView",
            "continuous_update": true,
            "description": "קורסים:",
            "description_tooltip": null,
            "disabled": true,
            "layout": "IPY_MODEL_bb6fbda070454fe3a763b198cea5214a",
            "placeholder": "​",
            "rows": null,
            "style": "IPY_MODEL_a561c8a1590a4734bb4fb1e75190d451",
            "value": "Cloud;Python;Databases"
          }
        },
        "b74123c764374892ba5e32e3099be168": {
          "model_module": "@jupyter-widgets/controls",
          "model_name": "TextModel",
          "model_module_version": "1.5.0",
          "state": {
            "_dom_classes": [],
            "_model_module": "@jupyter-widgets/controls",
            "_model_module_version": "1.5.0",
            "_model_name": "TextModel",
            "_view_count": null,
            "_view_module": "@jupyter-widgets/controls",
            "_view_module_version": "1.5.0",
            "_view_name": "TextView",
            "continuous_update": true,
            "description": "קישור:",
            "description_tooltip": null,
            "disabled": true,
            "layout": "IPY_MODEL_ca8a69d403054342bd02164b406580e5",
            "placeholder": "​",
            "style": "IPY_MODEL_d0c3170e38df4d1793d8967ce623ecce",
            "value": "https://cloud.google.com"
          }
        },
        "71058f923a44412bbf675cb6d4e6157a": {
          "model_module": "@jupyter-widgets/controls",
          "model_name": "HBoxModel",
          "model_module_version": "1.5.0",
          "state": {
            "_dom_classes": [],
            "_model_module": "@jupyter-widgets/controls",
            "_model_module_version": "1.5.0",
            "_model_name": "HBoxModel",
            "_view_count": null,
            "_view_module": "@jupyter-widgets/controls",
            "_view_module_version": "1.5.0",
            "_view_name": "HBoxView",
            "box_style": "",
            "children": [
              "IPY_MODEL_44c768820c9746538c84adec8d5c5774",
              "IPY_MODEL_df7815a021124570bf4d4f6329734182"
            ],
            "layout": "IPY_MODEL_9bc94464ce8244fcb7147dc2ea6a5a73"
          }
        },
        "f85c0e18ce2d46ab80122dac5c65c97c": {
          "model_module": "@jupyter-widgets/base",
          "model_name": "LayoutModel",
          "model_module_version": "1.2.0",
          "state": {
            "_model_module": "@jupyter-widgets/base",
            "_model_module_version": "1.2.0",
            "_model_name": "LayoutModel",
            "_view_count": null,
            "_view_module": "@jupyter-widgets/base",
            "_view_module_version": "1.2.0",
            "_view_name": "LayoutView",
            "align_content": null,
            "align_items": null,
            "align_self": null,
            "border": null,
            "bottom": null,
            "display": null,
            "flex": null,
            "flex_flow": null,
            "grid_area": null,
            "grid_auto_columns": null,
            "grid_auto_flow": null,
            "grid_auto_rows": null,
            "grid_column": null,
            "grid_gap": null,
            "grid_row": null,
            "grid_template_areas": null,
            "grid_template_columns": null,
            "grid_template_rows": null,
            "height": null,
            "justify_content": null,
            "justify_items": null,
            "left": null,
            "margin": null,
            "max_height": null,
            "max_width": null,
            "min_height": null,
            "min_width": null,
            "object_fit": null,
            "object_position": null,
            "order": null,
            "overflow": null,
            "overflow_x": null,
            "overflow_y": null,
            "padding": null,
            "right": null,
            "top": null,
            "visibility": null,
            "width": null
          }
        },
        "3d80b21752004a539795d1ddffd44f18": {
          "model_module": "@jupyter-widgets/base",
          "model_name": "LayoutModel",
          "model_module_version": "1.2.0",
          "state": {
            "_model_module": "@jupyter-widgets/base",
            "_model_module_version": "1.2.0",
            "_model_name": "LayoutModel",
            "_view_count": null,
            "_view_module": "@jupyter-widgets/base",
            "_view_module_version": "1.2.0",
            "_view_name": "LayoutView",
            "align_content": null,
            "align_items": null,
            "align_self": null,
            "border": null,
            "bottom": null,
            "display": null,
            "flex": null,
            "flex_flow": null,
            "grid_area": null,
            "grid_auto_columns": null,
            "grid_auto_flow": null,
            "grid_auto_rows": null,
            "grid_column": null,
            "grid_gap": null,
            "grid_row": null,
            "grid_template_areas": null,
            "grid_template_columns": null,
            "grid_template_rows": null,
            "height": null,
            "justify_content": null,
            "justify_items": null,
            "left": null,
            "margin": null,
            "max_height": null,
            "max_width": null,
            "min_height": null,
            "min_width": null,
            "object_fit": null,
            "object_position": null,
            "order": null,
            "overflow": null,
            "overflow_x": null,
            "overflow_y": null,
            "padding": null,
            "right": null,
            "top": null,
            "visibility": null,
            "width": "400px"
          }
        },
        "63ff1e32164b46cf869d3ceea2bfa95d": {
          "model_module": "@jupyter-widgets/controls",
          "model_name": "DescriptionStyleModel",
          "model_module_version": "1.5.0",
          "state": {
            "_model_module": "@jupyter-widgets/controls",
            "_model_module_version": "1.5.0",
            "_model_name": "DescriptionStyleModel",
            "_view_count": null,
            "_view_module": "@jupyter-widgets/base",
            "_view_module_version": "1.2.0",
            "_view_name": "StyleView",
            "description_width": ""
          }
        },
        "d4c3cf6c9fa840fb90fa4da8f40435a2": {
          "model_module": "@jupyter-widgets/base",
          "model_name": "LayoutModel",
          "model_module_version": "1.2.0",
          "state": {
            "_model_module": "@jupyter-widgets/base",
            "_model_module_version": "1.2.0",
            "_model_name": "LayoutModel",
            "_view_count": null,
            "_view_module": "@jupyter-widgets/base",
            "_view_module_version": "1.2.0",
            "_view_name": "LayoutView",
            "align_content": null,
            "align_items": null,
            "align_self": null,
            "border": null,
            "bottom": null,
            "display": null,
            "flex": null,
            "flex_flow": null,
            "grid_area": null,
            "grid_auto_columns": null,
            "grid_auto_flow": null,
            "grid_auto_rows": null,
            "grid_column": null,
            "grid_gap": null,
            "grid_row": null,
            "grid_template_areas": null,
            "grid_template_columns": null,
            "grid_template_rows": null,
            "height": null,
            "justify_content": null,
            "justify_items": null,
            "left": null,
            "margin": null,
            "max_height": null,
            "max_width": null,
            "min_height": null,
            "min_width": null,
            "object_fit": null,
            "object_position": null,
            "order": null,
            "overflow": null,
            "overflow_x": null,
            "overflow_y": null,
            "padding": null,
            "right": null,
            "top": null,
            "visibility": null,
            "width": "600px"
          }
        },
        "073c780d524644598899cb4001878753": {
          "model_module": "@jupyter-widgets/controls",
          "model_name": "DescriptionStyleModel",
          "model_module_version": "1.5.0",
          "state": {
            "_model_module": "@jupyter-widgets/controls",
            "_model_module_version": "1.5.0",
            "_model_name": "DescriptionStyleModel",
            "_view_count": null,
            "_view_module": "@jupyter-widgets/base",
            "_view_module_version": "1.2.0",
            "_view_name": "StyleView",
            "description_width": ""
          }
        },
        "bb6fbda070454fe3a763b198cea5214a": {
          "model_module": "@jupyter-widgets/base",
          "model_name": "LayoutModel",
          "model_module_version": "1.2.0",
          "state": {
            "_model_module": "@jupyter-widgets/base",
            "_model_module_version": "1.2.0",
            "_model_name": "LayoutModel",
            "_view_count": null,
            "_view_module": "@jupyter-widgets/base",
            "_view_module_version": "1.2.0",
            "_view_name": "LayoutView",
            "align_content": null,
            "align_items": null,
            "align_self": null,
            "border": null,
            "bottom": null,
            "display": null,
            "flex": null,
            "flex_flow": null,
            "grid_area": null,
            "grid_auto_columns": null,
            "grid_auto_flow": null,
            "grid_auto_rows": null,
            "grid_column": null,
            "grid_gap": null,
            "grid_row": null,
            "grid_template_areas": null,
            "grid_template_columns": null,
            "grid_template_rows": null,
            "height": "80px",
            "justify_content": null,
            "justify_items": null,
            "left": null,
            "margin": null,
            "max_height": null,
            "max_width": null,
            "min_height": null,
            "min_width": null,
            "object_fit": null,
            "object_position": null,
            "order": null,
            "overflow": null,
            "overflow_x": null,
            "overflow_y": null,
            "padding": null,
            "right": null,
            "top": null,
            "visibility": null,
            "width": "600px"
          }
        },
        "a561c8a1590a4734bb4fb1e75190d451": {
          "model_module": "@jupyter-widgets/controls",
          "model_name": "DescriptionStyleModel",
          "model_module_version": "1.5.0",
          "state": {
            "_model_module": "@jupyter-widgets/controls",
            "_model_module_version": "1.5.0",
            "_model_name": "DescriptionStyleModel",
            "_view_count": null,
            "_view_module": "@jupyter-widgets/base",
            "_view_module_version": "1.2.0",
            "_view_name": "StyleView",
            "description_width": ""
          }
        },
        "ca8a69d403054342bd02164b406580e5": {
          "model_module": "@jupyter-widgets/base",
          "model_name": "LayoutModel",
          "model_module_version": "1.2.0",
          "state": {
            "_model_module": "@jupyter-widgets/base",
            "_model_module_version": "1.2.0",
            "_model_name": "LayoutModel",
            "_view_count": null,
            "_view_module": "@jupyter-widgets/base",
            "_view_module_version": "1.2.0",
            "_view_name": "LayoutView",
            "align_content": null,
            "align_items": null,
            "align_self": null,
            "border": null,
            "bottom": null,
            "display": null,
            "flex": null,
            "flex_flow": null,
            "grid_area": null,
            "grid_auto_columns": null,
            "grid_auto_flow": null,
            "grid_auto_rows": null,
            "grid_column": null,
            "grid_gap": null,
            "grid_row": null,
            "grid_template_areas": null,
            "grid_template_columns": null,
            "grid_template_rows": null,
            "height": null,
            "justify_content": null,
            "justify_items": null,
            "left": null,
            "margin": null,
            "max_height": null,
            "max_width": null,
            "min_height": null,
            "min_width": null,
            "object_fit": null,
            "object_position": null,
            "order": null,
            "overflow": null,
            "overflow_x": null,
            "overflow_y": null,
            "padding": null,
            "right": null,
            "top": null,
            "visibility": null,
            "width": "600px"
          }
        },
        "d0c3170e38df4d1793d8967ce623ecce": {
          "model_module": "@jupyter-widgets/controls",
          "model_name": "DescriptionStyleModel",
          "model_module_version": "1.5.0",
          "state": {
            "_model_module": "@jupyter-widgets/controls",
            "_model_module_version": "1.5.0",
            "_model_name": "DescriptionStyleModel",
            "_view_count": null,
            "_view_module": "@jupyter-widgets/base",
            "_view_module_version": "1.2.0",
            "_view_name": "StyleView",
            "description_width": ""
          }
        },
        "44c768820c9746538c84adec8d5c5774": {
          "model_module": "@jupyter-widgets/controls",
          "model_name": "TextModel",
          "model_module_version": "1.5.0",
          "state": {
            "_dom_classes": [],
            "_model_module": "@jupyter-widgets/controls",
            "_model_module_version": "1.5.0",
            "_model_name": "TextModel",
            "_view_count": null,
            "_view_module": "@jupyter-widgets/controls",
            "_view_module_version": "1.5.0",
            "_view_name": "TextView",
            "continuous_update": true,
            "description": "תוכנית אהובה:",
            "description_tooltip": null,
            "disabled": false,
            "layout": "IPY_MODEL_7f8542050d6a4ba4a576987113e594e7",
            "placeholder": "לדוגמה: Python",
            "style": "IPY_MODEL_343c37dfd2e34dde8a16ebf30af82b5a",
            "value": ""
          }
        },
        "df7815a021124570bf4d4f6329734182": {
          "model_module": "@jupyter-widgets/controls",
          "model_name": "ButtonModel",
          "model_module_version": "1.5.0",
          "state": {
            "_dom_classes": [],
            "_model_module": "@jupyter-widgets/controls",
            "_model_module_version": "1.5.0",
            "_model_name": "ButtonModel",
            "_view_count": null,
            "_view_module": "@jupyter-widgets/controls",
            "_view_module_version": "1.5.0",
            "_view_name": "ButtonView",
            "button_style": "success",
            "description": "הוסף שורה לקובץ",
            "disabled": false,
            "icon": "",
            "layout": "IPY_MODEL_2cfa350afeeb4b648728ae85a6683205",
            "style": "IPY_MODEL_f381a1905511408aa7261197cd90dc69",
            "tooltip": ""
          }
        },
        "9bc94464ce8244fcb7147dc2ea6a5a73": {
          "model_module": "@jupyter-widgets/base",
          "model_name": "LayoutModel",
          "model_module_version": "1.2.0",
          "state": {
            "_model_module": "@jupyter-widgets/base",
            "_model_module_version": "1.2.0",
            "_model_name": "LayoutModel",
            "_view_count": null,
            "_view_module": "@jupyter-widgets/base",
            "_view_module_version": "1.2.0",
            "_view_name": "LayoutView",
            "align_content": null,
            "align_items": null,
            "align_self": null,
            "border": null,
            "bottom": null,
            "display": null,
            "flex": null,
            "flex_flow": null,
            "grid_area": null,
            "grid_auto_columns": null,
            "grid_auto_flow": null,
            "grid_auto_rows": null,
            "grid_column": null,
            "grid_gap": null,
            "grid_row": null,
            "grid_template_areas": null,
            "grid_template_columns": null,
            "grid_template_rows": null,
            "height": null,
            "justify_content": null,
            "justify_items": null,
            "left": null,
            "margin": null,
            "max_height": null,
            "max_width": null,
            "min_height": null,
            "min_width": null,
            "object_fit": null,
            "object_position": null,
            "order": null,
            "overflow": null,
            "overflow_x": null,
            "overflow_y": null,
            "padding": null,
            "right": null,
            "top": null,
            "visibility": null,
            "width": null
          }
        },
        "7f8542050d6a4ba4a576987113e594e7": {
          "model_module": "@jupyter-widgets/base",
          "model_name": "LayoutModel",
          "model_module_version": "1.2.0",
          "state": {
            "_model_module": "@jupyter-widgets/base",
            "_model_module_version": "1.2.0",
            "_model_name": "LayoutModel",
            "_view_count": null,
            "_view_module": "@jupyter-widgets/base",
            "_view_module_version": "1.2.0",
            "_view_name": "LayoutView",
            "align_content": null,
            "align_items": null,
            "align_self": null,
            "border": null,
            "bottom": null,
            "display": null,
            "flex": null,
            "flex_flow": null,
            "grid_area": null,
            "grid_auto_columns": null,
            "grid_auto_flow": null,
            "grid_auto_rows": null,
            "grid_column": null,
            "grid_gap": null,
            "grid_row": null,
            "grid_template_areas": null,
            "grid_template_columns": null,
            "grid_template_rows": null,
            "height": null,
            "justify_content": null,
            "justify_items": null,
            "left": null,
            "margin": null,
            "max_height": null,
            "max_width": null,
            "min_height": null,
            "min_width": null,
            "object_fit": null,
            "object_position": null,
            "order": null,
            "overflow": null,
            "overflow_x": null,
            "overflow_y": null,
            "padding": null,
            "right": null,
            "top": null,
            "visibility": null,
            "width": "400px"
          }
        },
        "343c37dfd2e34dde8a16ebf30af82b5a": {
          "model_module": "@jupyter-widgets/controls",
          "model_name": "DescriptionStyleModel",
          "model_module_version": "1.5.0",
          "state": {
            "_model_module": "@jupyter-widgets/controls",
            "_model_module_version": "1.5.0",
            "_model_name": "DescriptionStyleModel",
            "_view_count": null,
            "_view_module": "@jupyter-widgets/base",
            "_view_module_version": "1.2.0",
            "_view_name": "StyleView",
            "description_width": ""
          }
        },
        "2cfa350afeeb4b648728ae85a6683205": {
          "model_module": "@jupyter-widgets/base",
          "model_name": "LayoutModel",
          "model_module_version": "1.2.0",
          "state": {
            "_model_module": "@jupyter-widgets/base",
            "_model_module_version": "1.2.0",
            "_model_name": "LayoutModel",
            "_view_count": null,
            "_view_module": "@jupyter-widgets/base",
            "_view_module_version": "1.2.0",
            "_view_name": "LayoutView",
            "align_content": null,
            "align_items": null,
            "align_self": null,
            "border": null,
            "bottom": null,
            "display": null,
            "flex": null,
            "flex_flow": null,
            "grid_area": null,
            "grid_auto_columns": null,
            "grid_auto_flow": null,
            "grid_auto_rows": null,
            "grid_column": null,
            "grid_gap": null,
            "grid_row": null,
            "grid_template_areas": null,
            "grid_template_columns": null,
            "grid_template_rows": null,
            "height": null,
            "justify_content": null,
            "justify_items": null,
            "left": null,
            "margin": null,
            "max_height": null,
            "max_width": null,
            "min_height": null,
            "min_width": null,
            "object_fit": null,
            "object_position": null,
            "order": null,
            "overflow": null,
            "overflow_x": null,
            "overflow_y": null,
            "padding": null,
            "right": null,
            "top": null,
            "visibility": null,
            "width": null
          }
        },
        "f381a1905511408aa7261197cd90dc69": {
          "model_module": "@jupyter-widgets/controls",
          "model_name": "ButtonStyleModel",
          "model_module_version": "1.5.0",
          "state": {
            "_model_module": "@jupyter-widgets/controls",
            "_model_module_version": "1.5.0",
            "_model_name": "ButtonStyleModel",
            "_view_count": null,
            "_view_module": "@jupyter-widgets/base",
            "_view_module_version": "1.2.0",
            "_view_name": "StyleView",
            "button_color": null,
            "font_weight": ""
          }
        }
      }
    }
  },
  "cells": [
    {
      "cell_type": "markdown",
      "metadata": {
        "id": "view-in-github",
        "colab_type": "text"
      },
      "source": [
        "<a href=\"https://colab.research.google.com/github/ykhier/Cloud_Course/blob/main/lab1_studentForm1.ipynb\" target=\"_parent\"><img src=\"https://colab.research.google.com/assets/colab-badge.svg\" alt=\"Open In Colab\"/></a>"
      ]
    },
    {
      "cell_type": "code",
      "source": [
        "from google.colab import drive\n",
        "drive.mount('/content/drive')\n"
      ],
      "metadata": {
        "colab": {
          "base_uri": "https://localhost:8080/"
        },
        "id": "FUrLCIJeQ1Bb",
        "outputId": "74ec6c57-2f61-4312-f7d6-1a37ca5d8dfd"
      },
      "execution_count": 1,
      "outputs": [
        {
          "output_type": "stream",
          "name": "stdout",
          "text": [
            "Drive already mounted at /content/drive; to attempt to forcibly remount, call drive.mount(\"/content/drive\", force_remount=True).\n"
          ]
        }
      ]
    },
    {
      "cell_type": "code",
      "source": [
        "cd /content/drive/MyDrive"
      ],
      "metadata": {
        "colab": {
          "base_uri": "https://localhost:8080/"
        },
        "id": "Xm1-N7_i42iK",
        "outputId": "e59d0496-622d-4be1-9593-b49f2786bb8f"
      },
      "execution_count": 2,
      "outputs": [
        {
          "output_type": "stream",
          "name": "stdout",
          "text": [
            "/content/drive/MyDrive\n"
          ]
        }
      ]
    },
    {
      "cell_type": "markdown",
      "source": [],
      "metadata": {
        "id": "h-PVWQ1PGjJ2"
      }
    },
    {
      "cell_type": "code",
      "source": [
        "import ipywidgets as widgets\n",
        "from IPython.display import display\n",
        "\n",
        "def getStudents():\n",
        "  studentsArray = []\n",
        "  students = []\n",
        "  with open('students.txt', 'r', encoding='utf-8') as file:\n",
        "    for line in file:\n",
        "      line = line.strip()\n",
        "      if not line: continue\n",
        "      parts = line.split()\n",
        "      studentsArray.append(parts)\n",
        "    print(studentsArray)\n",
        "  return studentsArray\n",
        "\n"
      ],
      "metadata": {
        "id": "jiQ38Y4x5JE7"
      },
      "execution_count": 3,
      "outputs": []
    },
    {
      "cell_type": "code",
      "source": [
        "def populate_fields(idx):\n",
        "        s = students[idx]\n",
        "        email_tb.value   = s[2]\n",
        "        courses_tb.value = s[3]\n",
        "        link_tb.value    = s[4]"
      ],
      "metadata": {
        "id": "9j2HnqxV9w4q"
      },
      "execution_count": 4,
      "outputs": []
    },
    {
      "cell_type": "code",
      "source": [
        "def on_student_change(change):\n",
        "        idx = names.index(change[\"new\"])\n",
        "        populate_fields(idx)"
      ],
      "metadata": {
        "id": "mh2eTaCK9zyW"
      },
      "execution_count": 5,
      "outputs": []
    },
    {
      "cell_type": "code",
      "source": [
        "def on_append_clicked(b):\n",
        "    idx = names.index(studentField.value)\n",
        "    student = students[idx]\n",
        "    fav = fav_tb.value\n",
        "    new_student = \"\"\n",
        "\n",
        "    for details in student:\n",
        "       new_student+= details + \" \"\n",
        "\n",
        "    new_student += fav\n",
        "    with open(\"students.txt\", \"a\", encoding=\"utf-8\") as f:\n",
        "        f.write(\"\\n\" + new_student)\n",
        "\n",
        "    fav_tb.value = \"\"\n",
        "\n",
        "\n"
      ],
      "metadata": {
        "id": "-oRxmFQ5A7-l"
      },
      "execution_count": 6,
      "outputs": []
    },
    {
      "cell_type": "code",
      "source": [
        "\n",
        "students = getStudents()\n",
        "names = []\n",
        "\n",
        "for student in students:\n",
        "  names.append(f\"{student[0]} {student[1]}\")\n",
        "\n",
        "studentField = widgets.Dropdown(options=names, description='סטודנט:', layout=widgets.Layout(width='400px'))\n",
        "email_tb   = widgets.Text(description='מייל:',    disabled=True, layout=widgets.Layout(width='600px'))\n",
        "courses_tb = widgets.Textarea(description='קורסים:', disabled=True, layout=widgets.Layout(width='600px', height='80px'))\n",
        "link_tb    = widgets.Text(description='קישור:',   disabled=True, layout=widgets.Layout(width='600px'))\n",
        "fav_tb     = widgets.Text(description='תוכנית אהובה:', placeholder='לדוגמה: Python', layout=widgets.Layout(width='400px'))\n",
        "append_btn = widgets.Button(description='הוסף שורה לקובץ', button_style='success')\n",
        "\n",
        "populate_fields(0)\n",
        "\n",
        "form = widgets.VBox([\n",
        "    studentField,\n",
        "    email_tb,\n",
        "    courses_tb,\n",
        "    link_tb,\n",
        "    widgets.HBox([fav_tb, append_btn])\n",
        "])\n",
        "display(form)\n",
        "\n",
        "studentField.observe(on_student_change, names=\"value\")\n",
        "\n",
        "append_btn.on_click(on_append_clicked)\n",
        "\n"
      ],
      "metadata": {
        "id": "aoKN5LCiNCwb",
        "colab": {
          "base_uri": "https://localhost:8080/",
          "height": 267,
          "referenced_widgets": [
            "7c1cec937bd64283b16ef9ad74de0098",
            "cf5aaff4ca2e4810bfce3f07523c8147",
            "df364f407a5a4f7eb988f4b872408ef6",
            "e338f3863ead4109b934d12ca72a9d14",
            "b74123c764374892ba5e32e3099be168",
            "71058f923a44412bbf675cb6d4e6157a",
            "f85c0e18ce2d46ab80122dac5c65c97c",
            "3d80b21752004a539795d1ddffd44f18",
            "63ff1e32164b46cf869d3ceea2bfa95d",
            "d4c3cf6c9fa840fb90fa4da8f40435a2",
            "073c780d524644598899cb4001878753",
            "bb6fbda070454fe3a763b198cea5214a",
            "a561c8a1590a4734bb4fb1e75190d451",
            "ca8a69d403054342bd02164b406580e5",
            "d0c3170e38df4d1793d8967ce623ecce",
            "44c768820c9746538c84adec8d5c5774",
            "df7815a021124570bf4d4f6329734182",
            "9bc94464ce8244fcb7147dc2ea6a5a73",
            "7f8542050d6a4ba4a576987113e594e7",
            "343c37dfd2e34dde8a16ebf30af82b5a",
            "2cfa350afeeb4b648728ae85a6683205",
            "f381a1905511408aa7261197cd90dc69"
          ]
        },
        "outputId": "6f9b0ae0-b398-46a6-ffb0-bd1658538d0b"
      },
      "execution_count": 7,
      "outputs": [
        {
          "output_type": "stream",
          "name": "stdout",
          "text": [
            "[['Yosef', 'Khier', 'yosef.khier@braude.ac.il', 'Cloud;Python;Databases', 'https://cloud.google.com'], ['Maya', 'Cohen', 'maya.cohen@braude.ac.il', 'Algorithms;Java;Operating', 'https://www.oracle.com/java/'], ['Ali', 'Nassar', 'ali.nassar@braude.ac.il', 'Data;Structures;Computer;Networks;Cyber', 'https://www.cloudflare.com/learning/'], ['Yosef', 'Khier', 'yosef.khier@braude.ac.il', 'Cloud;Python;Databases', 'https://cloud.google.com', 'asdasd'], ['Yosef', 'Khier', 'yosef.khier@braude.ac.il', 'Cloud;Python;Databases', 'https://cloud.google.com', 'asd'], ['Ali', 'Nassar', 'ali.nassar@braude.ac.il', 'Data;Structures;Computer;Networks;Cyber', 'https://www.cloudflare.com/learning/', 'שגשדגשדגשדג']]\n"
          ]
        },
        {
          "output_type": "display_data",
          "data": {
            "text/plain": [
              "VBox(children=(Dropdown(description='סטודנט:', layout=Layout(width='400px'), options=('Yosef Khier', 'Maya Coh…"
            ],
            "application/vnd.jupyter.widget-view+json": {
              "version_major": 2,
              "version_minor": 0,
              "model_id": "7c1cec937bd64283b16ef9ad74de0098"
            }
          },
          "metadata": {}
        }
      ]
    },
    {
      "cell_type": "code",
      "source": [],
      "metadata": {
        "id": "LDot_0cqMwLv"
      },
      "execution_count": 7,
      "outputs": []
    }
  ]
}