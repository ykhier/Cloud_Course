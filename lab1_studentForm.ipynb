{
  "nbformat": 4,
  "nbformat_minor": 0,
  "metadata": {
    "colab": {
      "provenance": [],
      "authorship_tag": "ABX9TyNmUrxOvIEEivMiq1YPjBDF",
      "include_colab_link": true
    },
    "kernelspec": {
      "name": "python3",
      "display_name": "Python 3"
    },
    "language_info": {
      "name": "python"
    }
  },
  "cells": [
    {
      "cell_type": "markdown",
      "metadata": {
        "id": "view-in-github",
        "colab_type": "text"
      },
      "source": [
        "<a href=\"https://colab.research.google.com/github/ykhier/Cloud_Course/blob/main/lab1_studentForm.ipynb\" target=\"_parent\"><img src=\"https://colab.research.google.com/assets/colab-badge.svg\" alt=\"Open In Colab\"/></a>"
      ]
    },
    {
      "cell_type": "code",
      "source": [
        "from google.colab import drive\n",
        "drive.mount('/content/drive')\n"
      ],
      "metadata": {
        "id": "FUrLCIJeQ1Bb"
      },
      "execution_count": null,
      "outputs": []
    },
    {
      "cell_type": "code",
      "source": [
        "cd /content/drive/MyDrive"
      ],
      "metadata": {
        "id": "Xm1-N7_i42iK"
      },
      "execution_count": null,
      "outputs": []
    },
    {
      "cell_type": "markdown",
      "source": [],
      "metadata": {
        "id": "h-PVWQ1PGjJ2"
      }
    },
    {
      "cell_type": "code",
      "source": [
        "import ipywidgets as widgets\n",
        "from IPython.display import display\n",
        "\n",
        "def getStudents():\n",
        "  studentsArray = []\n",
        "  students = []\n",
        "  with open('students.txt', 'r', encoding='utf-8') as file:\n",
        "    for line in file:\n",
        "      line = line.strip()\n",
        "      if not line: continue\n",
        "      parts = line.split()\n",
        "      studentsArray.append(parts)\n",
        "    print(studentsArray)\n",
        "  return studentsArray\n",
        "\n"
      ],
      "metadata": {
        "id": "jiQ38Y4x5JE7"
      },
      "execution_count": null,
      "outputs": []
    },
    {
      "cell_type": "code",
      "source": [
        "def populate_fields(idx):\n",
        "        s = students[idx]\n",
        "        email_tb.value   = s[2]\n",
        "        courses_tb.value = s[3]\n",
        "        link_tb.value    = s[4]"
      ],
      "metadata": {
        "id": "9j2HnqxV9w4q"
      },
      "execution_count": null,
      "outputs": []
    },
    {
      "cell_type": "code",
      "source": [
        "def on_student_change(change):\n",
        "        idx = names.index(change[\"new\"])\n",
        "        populate_fields(idx)"
      ],
      "metadata": {
        "id": "mh2eTaCK9zyW"
      },
      "execution_count": null,
      "outputs": []
    },
    {
      "cell_type": "code",
      "source": [
        "def on_append_clicked(b):\n",
        "    idx = names.index(studentField.value)\n",
        "    student = students[idx]\n",
        "    fav = fav_tb.value\n",
        "    new_student = \"\"\n",
        "\n",
        "    for details in student:\n",
        "       new_student+= details + \" \"\n",
        "\n",
        "    new_student += fav\n",
        "    with open(\"students.txt\", \"a\", encoding=\"utf-8\") as f:\n",
        "        f.write(\"\\n\" + new_student)\n",
        "\n",
        "    fav_tb.value = \"\""
      ],
      "metadata": {
        "id": "-oRxmFQ5A7-l"
      },
      "execution_count": null,
      "outputs": []
    },
    {
      "cell_type": "code",
      "source": [
        "\n",
        "students = getStudents()\n",
        "names = []\n",
        "\n",
        "for student in students:\n",
        "  names.append(f\"{student[0]} {student[1]}\")\n",
        "\n",
        "studentField = widgets.Dropdown(options=names, description='סטודנט:', layout=widgets.Layout(width='400px'))\n",
        "email_tb   = widgets.Text(description='מייל:',    disabled=True, layout=widgets.Layout(width='600px'))\n",
        "courses_tb = widgets.Textarea(description='קורסים:', disabled=True, layout=widgets.Layout(width='600px', height='80px'))\n",
        "link_tb    = widgets.Text(description='קישור:',   disabled=True, layout=widgets.Layout(width='600px'))\n",
        "fav_tb     = widgets.Text(description='תוכנית אהובה:', placeholder='לדוגמה: Python', layout=widgets.Layout(width='400px'))\n",
        "append_btn = widgets.Button(description='הוסף שורה לקובץ', button_style='success')\n",
        "\n",
        "populate_fields(0)\n",
        "\n",
        "form = widgets.VBox([\n",
        "    studentField,\n",
        "    email_tb,\n",
        "    courses_tb,\n",
        "    link_tb,\n",
        "    widgets.HBox([fav_tb, append_btn])\n",
        "])\n",
        "display(form)\n",
        "\n",
        "studentField.observe(on_student_change, names=\"value\")\n",
        "\n",
        "append_btn.on_click(on_append_clicked)\n",
        "\n"
      ],
      "metadata": {
        "id": "aoKN5LCiNCwb"
      },
      "execution_count": null,
      "outputs": []
    },
    {
      "cell_type": "code",
      "source": [
        "# === 1) התקנות עזר\n",
        "!pip -q install nbformat nbconvert\n",
        "\n",
        "import os\n",
        "from nbformat import read, write\n",
        "from google.colab import files\n",
        "\n",
        "# === 2) בדוק מה יש בתיקייה הנוכחית\n",
        "print(\"PWD:\", os.getcwd())\n",
        "print(\"Files here:\")\n",
        "!ls -la\n",
        "\n",
        "# === 3) אם אין את הריפו מקומית – נשכפל אותו\n",
        "if not os.path.exists(\"/content/Cloud_Course\"):\n",
        "    !git clone https://github.com/ykhier/Cloud_Course.git\n",
        "\n",
        "# === 4) נתיבים מלאים לקבצים בתוך הריפו\n",
        "nb_paths = [\n",
        "    \"/content/Cloud_Course/lab1_studentForm.ipynb\",\n",
        "    \"/content/Cloud_Course/lab1_studentForm1.ipynb\",\n",
        "]\n",
        "\n",
        "# === 5) ניקוי ה-metadata הבעייתי והפלטים\n",
        "def clean_ipynb(path):\n",
        "    if not os.path.exists(path):\n",
        "        print(\"❌ לא נמצא:\", path)\n",
        "        return False\n",
        "    nb = read(path, as_version=4)\n",
        "    # הסר widgets metadata אם קיים\n",
        "    if hasattr(nb, \"metadata\") and \"widgets\" in nb.metadata:\n",
        "        del nb.metadata[\"widgets\"]\n",
        "    # נקה פלטים וספירת תאים\n",
        "    for c in nb.cells:\n",
        "        if \"outputs\" in c: c[\"outputs\"] = []\n",
        "        if \"execution_count\" in c: c[\"execution_count\"] = None\n",
        "    write(nb, path)\n",
        "    print(\"✅ נוקה:\", path)\n",
        "    return True\n",
        "\n",
        "cleaned = [p for p in nb_paths if clean_ipynb(p)]\n",
        "\n",
        "# === 6) הורד עותק נקי למחשב שלך להעלאה ל-GitHub (UI)\n",
        "for p in cleaned:\n",
        "    files.download(p)\n"
      ],
      "metadata": {
        "colab": {
          "base_uri": "https://localhost:8080/"
        },
        "id": "K_8lLwl9LlX2",
        "outputId": "95af1adb-3773-4610-ad93-cfaed10d7ace"
      },
      "execution_count": 10,
      "outputs": [
        {
          "output_type": "stream",
          "name": "stdout",
          "text": [
            "PWD: /content/drive/MyDrive\n",
            "Files here:\n",
            "total 25743\n",
            "-rw------- 1 root root   36468 Jun 29 10:24 '0_copy (1).PDF.pdf'\n",
            "-rw------- 1 root root   36468 Jun 29 10:23 '0_copy (2).PDF.pdf'\n",
            "-rw------- 1 root root   36468 Jun 29 10:23 '0_copy (3).PDF.pdf'\n",
            "-rw------- 1 root root   36468 Jun 29 10:22 '0_copy (4).PDF.pdf'\n",
            "-rw------- 1 root root   36468 Jun 29 10:24  0_copy.PDF.pdf\n",
            "-rw------- 1 root root      18 Oct 28 09:33  1.txt\n",
            "-rw------- 1 root root  732871 Jun 29 19:13 '685bd55ea79db016881dd28e (1)_copy_copy.pdf'\n",
            "-rw------- 1 root root  732871 Jun 29 19:13 '685bd55ea79db016881dd28e (1)_copy.pdf'\n",
            "-rw------- 1 root root  732871 Jun 29 11:21  685bd55ea79db016881dd28e_copy.pdf\n",
            "-rw------- 1 root root 2072707 Jul 20 07:09  9.7.18.pdf\n",
            "-rw------- 1 root root     177 Apr  2  2025  Assignment1-Requirments.gdoc\n",
            "drwx------ 2 root root    4096 Jul 14  2024 'Colab Notebooks'\n",
            "-rw------- 1 root root      58 Oct 28 09:50  example.txt\n",
            "-rw------- 1 root root  446223 Aug  1 19:21  final_s18a_solution_copy.pdf\n",
            "-rw------- 1 root root  654756 Aug  1 19:22 'final_w19a_solution_copy (1).pdf'\n",
            "-rw------- 1 root root  654756 Aug  1 19:22  final_w19a_solution_copy.pdf\n",
            "-rw------- 1 root root  531968 Apr 10  2025 'G3_Assignment1 (1).zip'\n",
            "-rw------- 1 root root  234613 May  5 14:40  G3_Assignment1.zip\n",
            "-rw------- 1 root root 2190132 Jun 17 14:59  Hw3__207417874___212274237___.pdf\n",
            "-rw------- 1 root root  381241 Jul 12 12:49  prob-spring22-A-sol.pdf\n",
            "-rw------- 1 root root  406055 Aug  1 19:25  s19a_solution_copy.pdf\n",
            "-rw------- 1 root root  603276 Aug  1 19:24  s21b_sol_copy.pdf\n",
            "-rw------- 1 root root  204794 Jul 31 19:04 's22a_solution (1)_copy.pdf'\n",
            "-rw------- 1 root root  204794 Jul 30 10:44  s22a_solution_copy.pdf\n",
            "-rw------- 1 root root  268864 Aug  1 17:00  s23a_copy.pdf\n",
            "-rw------- 1 root root  314499 Aug  1 17:06 's23a-solution (1)_copy.pdf'\n",
            "-rw------- 1 root root  314499 Aug  1 06:53  s23a-solution_copy.pdf\n",
            "-rw------- 1 root root  283530 Jul 30 13:23  s23b_solution_copy.pdf\n",
            "-rw------- 1 root root     607 Oct 31 20:57  students.txt\n",
            "-rw------- 1 root root  673845 Jul 31 18:59  W22A_solution_copy.pdf\n",
            "-rw------- 1 root root  597299 Jul 31 19:02  W22B_solution_copy.pdf\n",
            "-rw------- 1 root root  334365 Jul 30 13:26  w23a_solution_copy.pdf\n",
            "-rw------- 1 root root 4354422 Aug  2 12:27 'w23b_solution (2)_copy.pdf'\n",
            "-rw------- 1 root root 4354422 Jul 31 06:22  w23b_solution_copy.pdf\n",
            "-rw------- 1 root root  852486 Jul 30 08:27 'YedionPdf_פתיחת מחברות בחינה_01535_01068_copy (1).pdf'\n",
            "-rw------- 1 root root  889661 Jul 30 08:28 'YedionPdf_פתיחת מחברות בחינה_01535_01068_copy.pdf'\n",
            "-rw------- 1 root root  489974 Jul 21 19:32 'YedionPdf_פתיחת מחברות בחינה_01684_05891_copy (1).pdf'\n",
            "-rw------- 1 root root  489974 Jul 21 19:33 'YedionPdf_פתיחת מחברות בחינה_01684_05891_copy.pdf'\n",
            "-rw------- 1 root root  124996 Jul 25 15:45 'YedionPdf_פתיחת מחברות בחינה_01686_01656_copy.pdf'\n",
            "-rw------- 1 root root  124996 Aug 14 07:29 'YedionPdf_פתיחת מחברות בחינה_09150_01170_copy.pdf'\n",
            "drwx------ 2 root root    4096 Oct 30 08:39 'כריית ניתונים'\n",
            "-rw------- 1 root root  554348 Sep 14 12:22 'משתנה מטיפוס מספר שלם.pptx_copy.pdf'\n",
            "-rw------- 1 root root  351534 Jun 25 13:49 'תעודת מוסד (1)_copy.pdf'\n",
            "Cloning into 'Cloud_Course'...\n",
            "remote: Enumerating objects: 10, done.\u001b[K\n",
            "remote: Counting objects: 100% (10/10), done.\u001b[K\n",
            "remote: Compressing objects: 100% (8/8), done.\u001b[K\n",
            "remote: Total 10 (delta 2), reused 2 (delta 0), pack-reused 0 (from 0)\u001b[K\n",
            "Receiving objects: 100% (10/10), 6.71 KiB | 763.00 KiB/s, done.\n",
            "Resolving deltas: 100% (2/2), done.\n",
            "❌ לא נמצא: /content/Cloud_Course/lab1_studentForm.ipynb\n",
            "❌ לא נמצא: /content/Cloud_Course/lab1_studentForm1.ipynb\n"
          ]
        }
      ]
    }
  ]
}