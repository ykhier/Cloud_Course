{
  "nbformat": 4,
  "nbformat_minor": 0,
  "metadata": {
    "colab": {
      "provenance": [],
      "authorship_tag": "ABX9TyN1d1p5MnV+dPUaeT3ERGfk",
      "include_colab_link": true
    },
    "kernelspec": {
      "name": "python3",
      "display_name": "Python 3"
    },
    "language_info": {
      "name": "python"
    }
  },
  "cells": [
    {
      "cell_type": "markdown",
      "metadata": {
        "id": "view-in-github",
        "colab_type": "text"
      },
      "source": [
        "<a href=\"https://colab.research.google.com/github/ykhier/Cloud_Course/blob/main/lab1_studentForm.ipynb\" target=\"_parent\"><img src=\"https://colab.research.google.com/assets/colab-badge.svg\" alt=\"Open In Colab\"/></a>"
      ]
    },
    {
      "cell_type": "code",
      "source": [
        "from google.colab import drive\n",
        "drive.mount('/content/drive')\n"
      ],
      "metadata": {
        "id": "FUrLCIJeQ1Bb"
      },
      "execution_count": null,
      "outputs": []
    },
    {
      "cell_type": "code",
      "source": [
        "cd /content/drive/MyDrive"
      ],
      "metadata": {
        "id": "Xm1-N7_i42iK"
      },
      "execution_count": null,
      "outputs": []
    },
    {
      "cell_type": "markdown",
      "source": [],
      "metadata": {
        "id": "h-PVWQ1PGjJ2"
      }
    },
    {
      "cell_type": "code",
      "source": [
        "import ipywidgets as widgets\n",
        "from IPython.display import display\n",
        "\n",
        "def getStudents():\n",
        "  studentsArray = []\n",
        "  students = []\n",
        "  with open('students.txt', 'r', encoding='utf-8') as file:\n",
        "    for line in file:\n",
        "      line = line.strip()\n",
        "      if not line: continue\n",
        "      parts = line.split()\n",
        "      studentsArray.append(parts)\n",
        "    print(studentsArray)\n",
        "  return studentsArray\n",
        "\n"
      ],
      "metadata": {
        "id": "jiQ38Y4x5JE7"
      },
      "execution_count": null,
      "outputs": []
    },
    {
      "cell_type": "code",
      "source": [
        "def populate_fields(idx):\n",
        "        s = students[idx]\n",
        "        email_tb.value   = s[2]\n",
        "        courses_tb.value = s[3]\n",
        "        link_tb.value    = s[4]"
      ],
      "metadata": {
        "id": "9j2HnqxV9w4q"
      },
      "execution_count": null,
      "outputs": []
    },
    {
      "cell_type": "code",
      "source": [
        "def on_student_change(change):\n",
        "        idx = names.index(change[\"new\"])\n",
        "        populate_fields(idx)"
      ],
      "metadata": {
        "id": "mh2eTaCK9zyW"
      },
      "execution_count": null,
      "outputs": []
    },
    {
      "cell_type": "code",
      "source": [
        "def on_append_clicked(b):\n",
        "    idx = names.index(studentField.value)\n",
        "    student = students[idx]\n",
        "    fav = fav_tb.value\n",
        "    new_student = \"\"\n",
        "\n",
        "    for details in student:\n",
        "       new_student+= details + \" \"\n",
        "\n",
        "    new_student += fav\n",
        "    with open(\"students.txt\", \"a\", encoding=\"utf-8\") as f:\n",
        "        f.write(\"\\n\" + new_student)\n",
        "\n",
        "    fav_tb.value = \"\""
      ],
      "metadata": {
        "id": "-oRxmFQ5A7-l"
      },
      "execution_count": null,
      "outputs": []
    },
    {
      "cell_type": "code",
      "source": [
        "\n",
        "students = getStudents()\n",
        "names = []\n",
        "\n",
        "for student in students:\n",
        "  names.append(f\"{student[0]} {student[1]}\")\n",
        "\n",
        "studentField = widgets.Dropdown(options=names, description='סטודנט:', layout=widgets.Layout(width='400px'))\n",
        "email_tb   = widgets.Text(description='מייל:',    disabled=True, layout=widgets.Layout(width='600px'))\n",
        "courses_tb = widgets.Textarea(description='קורסים:', disabled=True, layout=widgets.Layout(width='600px', height='80px'))\n",
        "link_tb    = widgets.Text(description='קישור:',   disabled=True, layout=widgets.Layout(width='600px'))\n",
        "fav_tb     = widgets.Text(description='תוכנית אהובה:', placeholder='לדוגמה: Python', layout=widgets.Layout(width='400px'))\n",
        "append_btn = widgets.Button(description='הוסף שורה לקובץ', button_style='success')\n",
        "\n",
        "populate_fields(0)\n",
        "\n",
        "form = widgets.VBox([\n",
        "    studentField,\n",
        "    email_tb,\n",
        "    courses_tb,\n",
        "    link_tb,\n",
        "    widgets.HBox([fav_tb, append_btn])\n",
        "])\n",
        "display(form)\n",
        "\n",
        "studentField.observe(on_student_change, names=\"value\")\n",
        "\n",
        "append_btn.on_click(on_append_clicked)\n",
        "\n"
      ],
      "metadata": {
        "id": "aoKN5LCiNCwb"
      },
      "execution_count": null,
      "outputs": []
    },
    {
      "cell_type": "code",
      "source": [],
      "metadata": {
        "id": "K_8lLwl9LlX2"
      },
      "execution_count": 12,
      "outputs": []
    }
  ]
}