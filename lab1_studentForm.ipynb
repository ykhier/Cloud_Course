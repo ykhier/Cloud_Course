{
  "nbformat": 4,
  "nbformat_minor": 0,
  "metadata": {
    "colab": {
      "provenance": [],
      "authorship_tag": "ABX9TyPWr8ZHeORo4HLJronJ1SXf",
      "include_colab_link": true
    },
    "kernelspec": {
      "name": "python3",
      "display_name": "Python 3"
    },
    "language_info": {
      "name": "python"
    },
    "widgets": {
      "application/vnd.jupyter.widget-state+json": {
        "da361df1862a4b71a7cac39b36dbdbe1": {
          "model_module": "@jupyter-widgets/controls",
          "model_name": "VBoxModel",
          "model_module_version": "1.5.0",
          "state": {
            "_dom_classes": [],
            "_model_module": "@jupyter-widgets/controls",
            "_model_module_version": "1.5.0",
            "_model_name": "VBoxModel",
            "_view_count": null,
            "_view_module": "@jupyter-widgets/controls",
            "_view_module_version": "1.5.0",
            "_view_name": "VBoxView",
            "box_style": "",
            "children": [
              "IPY_MODEL_578301580177458cb15a2ddb7f20bf2d",
              "IPY_MODEL_46340053136848dcaa1807f55667ba61",
              "IPY_MODEL_22dd4d74d4f14bdd99d2e8d3dcfea565",
              "IPY_MODEL_59465e8596814149b98708a5c5338c3a",
              "IPY_MODEL_cd7dc289d1ef477bb081bafbe6eab2cb"
            ],
            "layout": "IPY_MODEL_36bc487a72c24915b8325f387d21bc57"
          }
        },
        "578301580177458cb15a2ddb7f20bf2d": {
          "model_module": "@jupyter-widgets/controls",
          "model_name": "DropdownModel",
          "model_module_version": "1.5.0",
          "state": {
            "_dom_classes": [],
            "_model_module": "@jupyter-widgets/controls",
            "_model_module_version": "1.5.0",
            "_model_name": "DropdownModel",
            "_options_labels": [
              "Yosef Khier",
              "Maya Cohen",
              "Ali Nassar",
              "Yosef Khier"
            ],
            "_view_count": null,
            "_view_module": "@jupyter-widgets/controls",
            "_view_module_version": "1.5.0",
            "_view_name": "DropdownView",
            "description": "סטודנט:",
            "description_tooltip": null,
            "disabled": false,
            "index": 2,
            "layout": "IPY_MODEL_65295765195d4e02858a70ff433bb0d3",
            "style": "IPY_MODEL_6edce25a14474dffa42cf24ee267090d"
          }
        },
        "46340053136848dcaa1807f55667ba61": {
          "model_module": "@jupyter-widgets/controls",
          "model_name": "TextModel",
          "model_module_version": "1.5.0",
          "state": {
            "_dom_classes": [],
            "_model_module": "@jupyter-widgets/controls",
            "_model_module_version": "1.5.0",
            "_model_name": "TextModel",
            "_view_count": null,
            "_view_module": "@jupyter-widgets/controls",
            "_view_module_version": "1.5.0",
            "_view_name": "TextView",
            "continuous_update": true,
            "description": "מייל:",
            "description_tooltip": null,
            "disabled": true,
            "layout": "IPY_MODEL_c063bfff60a64715a742709c8110887c",
            "placeholder": "​",
            "style": "IPY_MODEL_c357c20b84874bef9f22708db2d89442",
            "value": "ali.nassar@braude.ac.il"
          }
        },
        "22dd4d74d4f14bdd99d2e8d3dcfea565": {
          "model_module": "@jupyter-widgets/controls",
          "model_name": "TextareaModel",
          "model_module_version": "1.5.0",
          "state": {
            "_dom_classes": [],
            "_model_module": "@jupyter-widgets/controls",
            "_model_module_version": "1.5.0",
            "_model_name": "TextareaModel",
            "_view_count": null,
            "_view_module": "@jupyter-widgets/controls",
            "_view_module_version": "1.5.0",
            "_view_name": "TextareaView",
            "continuous_update": true,
            "description": "קורסים:",
            "description_tooltip": null,
            "disabled": true,
            "layout": "IPY_MODEL_62197c7d4a5c477d9e16d8e0fabc49c7",
            "placeholder": "​",
            "rows": null,
            "style": "IPY_MODEL_90a9bb9b638e41429e529ce6e2545f09",
            "value": "Data;Structures;Computer;Networks;Cyber"
          }
        },
        "59465e8596814149b98708a5c5338c3a": {
          "model_module": "@jupyter-widgets/controls",
          "model_name": "TextModel",
          "model_module_version": "1.5.0",
          "state": {
            "_dom_classes": [],
            "_model_module": "@jupyter-widgets/controls",
            "_model_module_version": "1.5.0",
            "_model_name": "TextModel",
            "_view_count": null,
            "_view_module": "@jupyter-widgets/controls",
            "_view_module_version": "1.5.0",
            "_view_name": "TextView",
            "continuous_update": true,
            "description": "קישור:",
            "description_tooltip": null,
            "disabled": true,
            "layout": "IPY_MODEL_802518f84d18411e86865366eefd3646",
            "placeholder": "​",
            "style": "IPY_MODEL_d0c85e1e423c475abce6a6f3935f3af5",
            "value": "https://www.cloudflare.com/learning/"
          }
        },
        "cd7dc289d1ef477bb081bafbe6eab2cb": {
          "model_module": "@jupyter-widgets/controls",
          "model_name": "HBoxModel",
          "model_module_version": "1.5.0",
          "state": {
            "_dom_classes": [],
            "_model_module": "@jupyter-widgets/controls",
            "_model_module_version": "1.5.0",
            "_model_name": "HBoxModel",
            "_view_count": null,
            "_view_module": "@jupyter-widgets/controls",
            "_view_module_version": "1.5.0",
            "_view_name": "HBoxView",
            "box_style": "",
            "children": [
              "IPY_MODEL_5e74d7a518584cc4ac1efe2cc2ec3c05",
              "IPY_MODEL_0f4b4f514dc54da3b6612115c0edaedc"
            ],
            "layout": "IPY_MODEL_6182cf46bfd74d7086117f090658bf92"
          }
        },
        "36bc487a72c24915b8325f387d21bc57": {
          "model_module": "@jupyter-widgets/base",
          "model_name": "LayoutModel",
          "model_module_version": "1.2.0",
          "state": {
            "_model_module": "@jupyter-widgets/base",
            "_model_module_version": "1.2.0",
            "_model_name": "LayoutModel",
            "_view_count": null,
            "_view_module": "@jupyter-widgets/base",
            "_view_module_version": "1.2.0",
            "_view_name": "LayoutView",
            "align_content": null,
            "align_items": null,
            "align_self": null,
            "border": null,
            "bottom": null,
            "display": null,
            "flex": null,
            "flex_flow": null,
            "grid_area": null,
            "grid_auto_columns": null,
            "grid_auto_flow": null,
            "grid_auto_rows": null,
            "grid_column": null,
            "grid_gap": null,
            "grid_row": null,
            "grid_template_areas": null,
            "grid_template_columns": null,
            "grid_template_rows": null,
            "height": null,
            "justify_content": null,
            "justify_items": null,
            "left": null,
            "margin": null,
            "max_height": null,
            "max_width": null,
            "min_height": null,
            "min_width": null,
            "object_fit": null,
            "object_position": null,
            "order": null,
            "overflow": null,
            "overflow_x": null,
            "overflow_y": null,
            "padding": null,
            "right": null,
            "top": null,
            "visibility": null,
            "width": null
          }
        },
        "65295765195d4e02858a70ff433bb0d3": {
          "model_module": "@jupyter-widgets/base",
          "model_name": "LayoutModel",
          "model_module_version": "1.2.0",
          "state": {
            "_model_module": "@jupyter-widgets/base",
            "_model_module_version": "1.2.0",
            "_model_name": "LayoutModel",
            "_view_count": null,
            "_view_module": "@jupyter-widgets/base",
            "_view_module_version": "1.2.0",
            "_view_name": "LayoutView",
            "align_content": null,
            "align_items": null,
            "align_self": null,
            "border": null,
            "bottom": null,
            "display": null,
            "flex": null,
            "flex_flow": null,
            "grid_area": null,
            "grid_auto_columns": null,
            "grid_auto_flow": null,
            "grid_auto_rows": null,
            "grid_column": null,
            "grid_gap": null,
            "grid_row": null,
            "grid_template_areas": null,
            "grid_template_columns": null,
            "grid_template_rows": null,
            "height": null,
            "justify_content": null,
            "justify_items": null,
            "left": null,
            "margin": null,
            "max_height": null,
            "max_width": null,
            "min_height": null,
            "min_width": null,
            "object_fit": null,
            "object_position": null,
            "order": null,
            "overflow": null,
            "overflow_x": null,
            "overflow_y": null,
            "padding": null,
            "right": null,
            "top": null,
            "visibility": null,
            "width": "400px"
          }
        },
        "6edce25a14474dffa42cf24ee267090d": {
          "model_module": "@jupyter-widgets/controls",
          "model_name": "DescriptionStyleModel",
          "model_module_version": "1.5.0",
          "state": {
            "_model_module": "@jupyter-widgets/controls",
            "_model_module_version": "1.5.0",
            "_model_name": "DescriptionStyleModel",
            "_view_count": null,
            "_view_module": "@jupyter-widgets/base",
            "_view_module_version": "1.2.0",
            "_view_name": "StyleView",
            "description_width": ""
          }
        },
        "c063bfff60a64715a742709c8110887c": {
          "model_module": "@jupyter-widgets/base",
          "model_name": "LayoutModel",
          "model_module_version": "1.2.0",
          "state": {
            "_model_module": "@jupyter-widgets/base",
            "_model_module_version": "1.2.0",
            "_model_name": "LayoutModel",
            "_view_count": null,
            "_view_module": "@jupyter-widgets/base",
            "_view_module_version": "1.2.0",
            "_view_name": "LayoutView",
            "align_content": null,
            "align_items": null,
            "align_self": null,
            "border": null,
            "bottom": null,
            "display": null,
            "flex": null,
            "flex_flow": null,
            "grid_area": null,
            "grid_auto_columns": null,
            "grid_auto_flow": null,
            "grid_auto_rows": null,
            "grid_column": null,
            "grid_gap": null,
            "grid_row": null,
            "grid_template_areas": null,
            "grid_template_columns": null,
            "grid_template_rows": null,
            "height": null,
            "justify_content": null,
            "justify_items": null,
            "left": null,
            "margin": null,
            "max_height": null,
            "max_width": null,
            "min_height": null,
            "min_width": null,
            "object_fit": null,
            "object_position": null,
            "order": null,
            "overflow": null,
            "overflow_x": null,
            "overflow_y": null,
            "padding": null,
            "right": null,
            "top": null,
            "visibility": null,
            "width": "600px"
          }
        },
        "c357c20b84874bef9f22708db2d89442": {
          "model_module": "@jupyter-widgets/controls",
          "model_name": "DescriptionStyleModel",
          "model_module_version": "1.5.0",
          "state": {
            "_model_module": "@jupyter-widgets/controls",
            "_model_module_version": "1.5.0",
            "_model_name": "DescriptionStyleModel",
            "_view_count": null,
            "_view_module": "@jupyter-widgets/base",
            "_view_module_version": "1.2.0",
            "_view_name": "StyleView",
            "description_width": ""
          }
        },
        "62197c7d4a5c477d9e16d8e0fabc49c7": {
          "model_module": "@jupyter-widgets/base",
          "model_name": "LayoutModel",
          "model_module_version": "1.2.0",
          "state": {
            "_model_module": "@jupyter-widgets/base",
            "_model_module_version": "1.2.0",
            "_model_name": "LayoutModel",
            "_view_count": null,
            "_view_module": "@jupyter-widgets/base",
            "_view_module_version": "1.2.0",
            "_view_name": "LayoutView",
            "align_content": null,
            "align_items": null,
            "align_self": null,
            "border": null,
            "bottom": null,
            "display": null,
            "flex": null,
            "flex_flow": null,
            "grid_area": null,
            "grid_auto_columns": null,
            "grid_auto_flow": null,
            "grid_auto_rows": null,
            "grid_column": null,
            "grid_gap": null,
            "grid_row": null,
            "grid_template_areas": null,
            "grid_template_columns": null,
            "grid_template_rows": null,
            "height": "80px",
            "justify_content": null,
            "justify_items": null,
            "left": null,
            "margin": null,
            "max_height": null,
            "max_width": null,
            "min_height": null,
            "min_width": null,
            "object_fit": null,
            "object_position": null,
            "order": null,
            "overflow": null,
            "overflow_x": null,
            "overflow_y": null,
            "padding": null,
            "right": null,
            "top": null,
            "visibility": null,
            "width": "600px"
          }
        },
        "90a9bb9b638e41429e529ce6e2545f09": {
          "model_module": "@jupyter-widgets/controls",
          "model_name": "DescriptionStyleModel",
          "model_module_version": "1.5.0",
          "state": {
            "_model_module": "@jupyter-widgets/controls",
            "_model_module_version": "1.5.0",
            "_model_name": "DescriptionStyleModel",
            "_view_count": null,
            "_view_module": "@jupyter-widgets/base",
            "_view_module_version": "1.2.0",
            "_view_name": "StyleView",
            "description_width": ""
          }
        },
        "802518f84d18411e86865366eefd3646": {
          "model_module": "@jupyter-widgets/base",
          "model_name": "LayoutModel",
          "model_module_version": "1.2.0",
          "state": {
            "_model_module": "@jupyter-widgets/base",
            "_model_module_version": "1.2.0",
            "_model_name": "LayoutModel",
            "_view_count": null,
            "_view_module": "@jupyter-widgets/base",
            "_view_module_version": "1.2.0",
            "_view_name": "LayoutView",
            "align_content": null,
            "align_items": null,
            "align_self": null,
            "border": null,
            "bottom": null,
            "display": null,
            "flex": null,
            "flex_flow": null,
            "grid_area": null,
            "grid_auto_columns": null,
            "grid_auto_flow": null,
            "grid_auto_rows": null,
            "grid_column": null,
            "grid_gap": null,
            "grid_row": null,
            "grid_template_areas": null,
            "grid_template_columns": null,
            "grid_template_rows": null,
            "height": null,
            "justify_content": null,
            "justify_items": null,
            "left": null,
            "margin": null,
            "max_height": null,
            "max_width": null,
            "min_height": null,
            "min_width": null,
            "object_fit": null,
            "object_position": null,
            "order": null,
            "overflow": null,
            "overflow_x": null,
            "overflow_y": null,
            "padding": null,
            "right": null,
            "top": null,
            "visibility": null,
            "width": "600px"
          }
        },
        "d0c85e1e423c475abce6a6f3935f3af5": {
          "model_module": "@jupyter-widgets/controls",
          "model_name": "DescriptionStyleModel",
          "model_module_version": "1.5.0",
          "state": {
            "_model_module": "@jupyter-widgets/controls",
            "_model_module_version": "1.5.0",
            "_model_name": "DescriptionStyleModel",
            "_view_count": null,
            "_view_module": "@jupyter-widgets/base",
            "_view_module_version": "1.2.0",
            "_view_name": "StyleView",
            "description_width": ""
          }
        },
        "5e74d7a518584cc4ac1efe2cc2ec3c05": {
          "model_module": "@jupyter-widgets/controls",
          "model_name": "TextModel",
          "model_module_version": "1.5.0",
          "state": {
            "_dom_classes": [],
            "_model_module": "@jupyter-widgets/controls",
            "_model_module_version": "1.5.0",
            "_model_name": "TextModel",
            "_view_count": null,
            "_view_module": "@jupyter-widgets/controls",
            "_view_module_version": "1.5.0",
            "_view_name": "TextView",
            "continuous_update": true,
            "description": "תוכנית אהובה:",
            "description_tooltip": null,
            "disabled": false,
            "layout": "IPY_MODEL_033fe31598634044b8f1cfcb21f6a7a9",
            "placeholder": "לדוגמה: Python",
            "style": "IPY_MODEL_f4a48e0fc638408ab37177d1b9b9d44c",
            "value": ""
          }
        },
        "0f4b4f514dc54da3b6612115c0edaedc": {
          "model_module": "@jupyter-widgets/controls",
          "model_name": "ButtonModel",
          "model_module_version": "1.5.0",
          "state": {
            "_dom_classes": [],
            "_model_module": "@jupyter-widgets/controls",
            "_model_module_version": "1.5.0",
            "_model_name": "ButtonModel",
            "_view_count": null,
            "_view_module": "@jupyter-widgets/controls",
            "_view_module_version": "1.5.0",
            "_view_name": "ButtonView",
            "button_style": "success",
            "description": "הוסף שורה לקובץ",
            "disabled": false,
            "icon": "",
            "layout": "IPY_MODEL_52208b04e24749d38bd68aace1c092a7",
            "style": "IPY_MODEL_71a40cc603724c5b86b769a2676d3ba7",
            "tooltip": ""
          }
        },
        "6182cf46bfd74d7086117f090658bf92": {
          "model_module": "@jupyter-widgets/base",
          "model_name": "LayoutModel",
          "model_module_version": "1.2.0",
          "state": {
            "_model_module": "@jupyter-widgets/base",
            "_model_module_version": "1.2.0",
            "_model_name": "LayoutModel",
            "_view_count": null,
            "_view_module": "@jupyter-widgets/base",
            "_view_module_version": "1.2.0",
            "_view_name": "LayoutView",
            "align_content": null,
            "align_items": null,
            "align_self": null,
            "border": null,
            "bottom": null,
            "display": null,
            "flex": null,
            "flex_flow": null,
            "grid_area": null,
            "grid_auto_columns": null,
            "grid_auto_flow": null,
            "grid_auto_rows": null,
            "grid_column": null,
            "grid_gap": null,
            "grid_row": null,
            "grid_template_areas": null,
            "grid_template_columns": null,
            "grid_template_rows": null,
            "height": null,
            "justify_content": null,
            "justify_items": null,
            "left": null,
            "margin": null,
            "max_height": null,
            "max_width": null,
            "min_height": null,
            "min_width": null,
            "object_fit": null,
            "object_position": null,
            "order": null,
            "overflow": null,
            "overflow_x": null,
            "overflow_y": null,
            "padding": null,
            "right": null,
            "top": null,
            "visibility": null,
            "width": null
          }
        },
        "033fe31598634044b8f1cfcb21f6a7a9": {
          "model_module": "@jupyter-widgets/base",
          "model_name": "LayoutModel",
          "model_module_version": "1.2.0",
          "state": {
            "_model_module": "@jupyter-widgets/base",
            "_model_module_version": "1.2.0",
            "_model_name": "LayoutModel",
            "_view_count": null,
            "_view_module": "@jupyter-widgets/base",
            "_view_module_version": "1.2.0",
            "_view_name": "LayoutView",
            "align_content": null,
            "align_items": null,
            "align_self": null,
            "border": null,
            "bottom": null,
            "display": null,
            "flex": null,
            "flex_flow": null,
            "grid_area": null,
            "grid_auto_columns": null,
            "grid_auto_flow": null,
            "grid_auto_rows": null,
            "grid_column": null,
            "grid_gap": null,
            "grid_row": null,
            "grid_template_areas": null,
            "grid_template_columns": null,
            "grid_template_rows": null,
            "height": null,
            "justify_content": null,
            "justify_items": null,
            "left": null,
            "margin": null,
            "max_height": null,
            "max_width": null,
            "min_height": null,
            "min_width": null,
            "object_fit": null,
            "object_position": null,
            "order": null,
            "overflow": null,
            "overflow_x": null,
            "overflow_y": null,
            "padding": null,
            "right": null,
            "top": null,
            "visibility": null,
            "width": "400px"
          }
        },
        "f4a48e0fc638408ab37177d1b9b9d44c": {
          "model_module": "@jupyter-widgets/controls",
          "model_name": "DescriptionStyleModel",
          "model_module_version": "1.5.0",
          "state": {
            "_model_module": "@jupyter-widgets/controls",
            "_model_module_version": "1.5.0",
            "_model_name": "DescriptionStyleModel",
            "_view_count": null,
            "_view_module": "@jupyter-widgets/base",
            "_view_module_version": "1.2.0",
            "_view_name": "StyleView",
            "description_width": ""
          }
        },
        "52208b04e24749d38bd68aace1c092a7": {
          "model_module": "@jupyter-widgets/base",
          "model_name": "LayoutModel",
          "model_module_version": "1.2.0",
          "state": {
            "_model_module": "@jupyter-widgets/base",
            "_model_module_version": "1.2.0",
            "_model_name": "LayoutModel",
            "_view_count": null,
            "_view_module": "@jupyter-widgets/base",
            "_view_module_version": "1.2.0",
            "_view_name": "LayoutView",
            "align_content": null,
            "align_items": null,
            "align_self": null,
            "border": null,
            "bottom": null,
            "display": null,
            "flex": null,
            "flex_flow": null,
            "grid_area": null,
            "grid_auto_columns": null,
            "grid_auto_flow": null,
            "grid_auto_rows": null,
            "grid_column": null,
            "grid_gap": null,
            "grid_row": null,
            "grid_template_areas": null,
            "grid_template_columns": null,
            "grid_template_rows": null,
            "height": null,
            "justify_content": null,
            "justify_items": null,
            "left": null,
            "margin": null,
            "max_height": null,
            "max_width": null,
            "min_height": null,
            "min_width": null,
            "object_fit": null,
            "object_position": null,
            "order": null,
            "overflow": null,
            "overflow_x": null,
            "overflow_y": null,
            "padding": null,
            "right": null,
            "top": null,
            "visibility": null,
            "width": null
          }
        },
        "71a40cc603724c5b86b769a2676d3ba7": {
          "model_module": "@jupyter-widgets/controls",
          "model_name": "ButtonStyleModel",
          "model_module_version": "1.5.0",
          "state": {
            "_model_module": "@jupyter-widgets/controls",
            "_model_module_version": "1.5.0",
            "_model_name": "ButtonStyleModel",
            "_view_count": null,
            "_view_module": "@jupyter-widgets/base",
            "_view_module_version": "1.2.0",
            "_view_name": "StyleView",
            "button_color": null,
            "font_weight": ""
          }
        }
      }
    }
  },
  "cells": [
    {
      "cell_type": "markdown",
      "metadata": {
        "id": "view-in-github",
        "colab_type": "text"
      },
      "source": [
        "<a href=\"https://colab.research.google.com/github/ykhier/Cloud_Course/blob/main/lab1_studentForm.ipynb\" target=\"_parent\"><img src=\"https://colab.research.google.com/assets/colab-badge.svg\" alt=\"Open In Colab\"/></a>"
      ]
    },
    {
      "cell_type": "code",
      "source": [
        "from google.colab import drive\n",
        "drive.mount('/content/drive')\n"
      ],
      "metadata": {
        "colab": {
          "base_uri": "https://localhost:8080/"
        },
        "id": "FUrLCIJeQ1Bb",
        "outputId": "f525aa3e-0c1a-4cb9-8e64-6fc102beacc9"
      },
      "execution_count": 54,
      "outputs": [
        {
          "output_type": "stream",
          "name": "stdout",
          "text": [
            "Drive already mounted at /content/drive; to attempt to forcibly remount, call drive.mount(\"/content/drive\", force_remount=True).\n"
          ]
        }
      ]
    },
    {
      "cell_type": "code",
      "source": [
        "#cd /content/drive/MyDrive"
      ],
      "metadata": {
        "colab": {
          "base_uri": "https://localhost:8080/"
        },
        "id": "Xm1-N7_i42iK",
        "outputId": "5a9c3e36-2b63-455b-c45b-f3c65eadd1c4"
      },
      "execution_count": 25,
      "outputs": [
        {
          "output_type": "stream",
          "name": "stdout",
          "text": [
            "/content/drive/MyDrive\n"
          ]
        }
      ]
    },
    {
      "cell_type": "markdown",
      "source": [],
      "metadata": {
        "id": "h-PVWQ1PGjJ2"
      }
    },
    {
      "cell_type": "code",
      "source": [
        "import ipywidgets as widgets\n",
        "from IPython.display import display\n",
        "\n",
        "def getStudents():\n",
        "  studentsArray = []\n",
        "  students = []\n",
        "  with open('students.txt', 'r', encoding='utf-8') as file:\n",
        "    for line in file:\n",
        "      line = line.strip()\n",
        "      if not line: continue\n",
        "      parts = line.split()\n",
        "      studentsArray.append(parts)\n",
        "    print(studentsArray)\n",
        "  return studentsArray\n",
        "\n"
      ],
      "metadata": {
        "id": "jiQ38Y4x5JE7"
      },
      "execution_count": 28,
      "outputs": []
    },
    {
      "cell_type": "code",
      "source": [
        "def populate_fields(idx):\n",
        "        s = students[idx]\n",
        "        email_tb.value   = s[2]\n",
        "        courses_tb.value = s[3]\n",
        "        link_tb.value    = s[4]"
      ],
      "metadata": {
        "id": "9j2HnqxV9w4q"
      },
      "execution_count": 39,
      "outputs": []
    },
    {
      "cell_type": "code",
      "source": [
        "def on_student_change(change):\n",
        "        idx = names.index(change[\"new\"])\n",
        "        populate_fields(idx)"
      ],
      "metadata": {
        "id": "mh2eTaCK9zyW"
      },
      "execution_count": 43,
      "outputs": []
    },
    {
      "cell_type": "code",
      "source": [
        "def on_append_clicked(b):\n",
        "    idx = names.index(studentField.value)\n",
        "    student = students[idx]\n",
        "    fav = fav_tb.value\n",
        "    new_student = \"\"\n",
        "\n",
        "    for details in student:\n",
        "       new_student+= details + \" \"\n",
        "\n",
        "    new_student += fav\n",
        "    with open(\"students.txt\", \"a\", encoding=\"utf-8\") as f:\n",
        "        f.write(\"\\n\" + new_student)\n",
        "\n",
        "    fav_tb.value = \"\"\n",
        "\n",
        "\n"
      ],
      "metadata": {
        "id": "-oRxmFQ5A7-l"
      },
      "execution_count": 52,
      "outputs": []
    },
    {
      "cell_type": "code",
      "source": [
        "\n",
        "students = getStudents()\n",
        "names = []\n",
        "\n",
        "for student in students:\n",
        "  names.append(f\"{student[0]} {student[1]}\")\n",
        "\n",
        "studentField = widgets.Dropdown(options=names, description='סטודנט:', layout=widgets.Layout(width='400px'))\n",
        "email_tb   = widgets.Text(description='מייל:',    disabled=True, layout=widgets.Layout(width='600px'))\n",
        "courses_tb = widgets.Textarea(description='קורסים:', disabled=True, layout=widgets.Layout(width='600px', height='80px'))\n",
        "link_tb    = widgets.Text(description='קישור:',   disabled=True, layout=widgets.Layout(width='600px'))\n",
        "fav_tb     = widgets.Text(description='תוכנית אהובה:', placeholder='לדוגמה: Python', layout=widgets.Layout(width='400px'))\n",
        "append_btn = widgets.Button(description='הוסף שורה לקובץ', button_style='success')\n",
        "\n",
        "populate_fields(0)\n",
        "\n",
        "form = widgets.VBox([\n",
        "    studentField,\n",
        "    email_tb,\n",
        "    courses_tb,\n",
        "    link_tb,\n",
        "    widgets.HBox([fav_tb, append_btn])\n",
        "])\n",
        "display(form)\n",
        "\n",
        "studentField.observe(on_student_change, names=\"value\")\n",
        "\n",
        "append_btn.on_click(on_append_clicked)\n",
        "\n"
      ],
      "metadata": {
        "id": "aoKN5LCiNCwb",
        "colab": {
          "base_uri": "https://localhost:8080/",
          "height": 267,
          "referenced_widgets": [
            "da361df1862a4b71a7cac39b36dbdbe1",
            "578301580177458cb15a2ddb7f20bf2d",
            "46340053136848dcaa1807f55667ba61",
            "22dd4d74d4f14bdd99d2e8d3dcfea565",
            "59465e8596814149b98708a5c5338c3a",
            "cd7dc289d1ef477bb081bafbe6eab2cb",
            "36bc487a72c24915b8325f387d21bc57",
            "65295765195d4e02858a70ff433bb0d3",
            "6edce25a14474dffa42cf24ee267090d",
            "c063bfff60a64715a742709c8110887c",
            "c357c20b84874bef9f22708db2d89442",
            "62197c7d4a5c477d9e16d8e0fabc49c7",
            "90a9bb9b638e41429e529ce6e2545f09",
            "802518f84d18411e86865366eefd3646",
            "d0c85e1e423c475abce6a6f3935f3af5",
            "5e74d7a518584cc4ac1efe2cc2ec3c05",
            "0f4b4f514dc54da3b6612115c0edaedc",
            "6182cf46bfd74d7086117f090658bf92",
            "033fe31598634044b8f1cfcb21f6a7a9",
            "f4a48e0fc638408ab37177d1b9b9d44c",
            "52208b04e24749d38bd68aace1c092a7",
            "71a40cc603724c5b86b769a2676d3ba7"
          ]
        },
        "outputId": "c4164b6f-753c-4ef2-ee4f-3bcc2d70b7e8"
      },
      "execution_count": 53,
      "outputs": [
        {
          "output_type": "stream",
          "name": "stdout",
          "text": [
            "[['Yosef', 'Khier', 'yosef.khier@braude.ac.il', 'Cloud;Python;Databases', 'https://cloud.google.com'], ['Maya', 'Cohen', 'maya.cohen@braude.ac.il', 'Algorithms;Java;Operating', 'https://www.oracle.com/java/'], ['Ali', 'Nassar', 'ali.nassar@braude.ac.il', 'Data;Structures;Computer;Networks;Cyber', 'https://www.cloudflare.com/learning/'], ['Yosef', 'Khier', 'yosef.khier@braude.ac.il', 'Cloud;Python;Databases', 'https://cloud.google.com', 'asdasd']]\n"
          ]
        },
        {
          "output_type": "display_data",
          "data": {
            "text/plain": [
              "VBox(children=(Dropdown(description='סטודנט:', layout=Layout(width='400px'), options=('Yosef Khier', 'Maya Coh…"
            ],
            "application/vnd.jupyter.widget-view+json": {
              "version_major": 2,
              "version_minor": 0,
              "model_id": "da361df1862a4b71a7cac39b36dbdbe1"
            }
          },
          "metadata": {}
        }
      ]
    },
    {
      "cell_type": "code",
      "source": [],
      "metadata": {
        "id": "LDot_0cqMwLv"
      },
      "execution_count": null,
      "outputs": []
    }
  ]
}